{
  "nbformat": 4,
  "nbformat_minor": 0,
  "metadata": {
    "colab": {
      "provenance": [],
      "include_colab_link": true
    },
    "kernelspec": {
      "name": "python3",
      "display_name": "Python 3"
    },
    "language_info": {
      "name": "python"
    }
  },
  "cells": [
    {
      "cell_type": "markdown",
      "metadata": {
        "id": "view-in-github",
        "colab_type": "text"
      },
      "source": [
        "<a href=\"https://colab.research.google.com/github/harshalk612/DATA6100/blob/main/NeuralNetworks/MNIST_example_with_blanks.ipynb\" target=\"_parent\"><img src=\"https://colab.research.google.com/assets/colab-badge.svg\" alt=\"Open In Colab\"/></a>"
      ]
    },
    {
      "cell_type": "code",
      "execution_count": 1,
      "metadata": {
        "id": "LNfZROG9zPm7"
      },
      "outputs": [],
      "source": [
        "import jax.numpy as jnp\n",
        "import jax\n",
        "import time\n",
        "from tqdm import tqdm"
      ]
    },
    {
      "cell_type": "markdown",
      "source": [
        "# What is this?\n",
        "\n",
        "This notebook is based on the JAX training for MNIST and builds up a simple fully connected neural network (aka Multi-Layer-Perceptron MLP) starting from ordinary linear regression, and then logistic regression to build up the intuition for how it works."
      ],
      "metadata": {
        "id": "nsxY_7yJJcMr"
      }
    },
    {
      "cell_type": "markdown",
      "source": [
        "#Load MNIST Dataset"
      ],
      "metadata": {
        "id": "oHR-WD5EzTPr"
      }
    },
    {
      "cell_type": "code",
      "source": [
        "import numpy as np\n",
        "from torch.utils import data\n",
        "from torchvision.datasets import MNIST\n",
        "\n",
        "def numpy_collate(batch):\n",
        "  if isinstance(batch[0], np.ndarray):\n",
        "    return np.stack(batch)\n",
        "  elif isinstance(batch[0], (tuple,list)):\n",
        "    transposed = zip(*batch)\n",
        "    return [numpy_collate(samples) for samples in transposed]\n",
        "  else:\n",
        "    return np.array(batch)\n",
        "\n",
        "class NumpyLoader(data.DataLoader):\n",
        "  def __init__(self, dataset, batch_size=1,\n",
        "                shuffle=False, sampler=None,\n",
        "                batch_sampler=None, num_workers=0,\n",
        "                pin_memory=False, drop_last=False,\n",
        "                timeout=0, worker_init_fn=None):\n",
        "    super(self.__class__, self).__init__(dataset,\n",
        "        batch_size=batch_size,\n",
        "        shuffle=shuffle,\n",
        "        sampler=sampler,\n",
        "        batch_sampler=batch_sampler,\n",
        "        num_workers=num_workers,\n",
        "        collate_fn=numpy_collate,\n",
        "        pin_memory=pin_memory,\n",
        "        drop_last=drop_last,\n",
        "        timeout=timeout,\n",
        "        worker_init_fn=worker_init_fn)\n",
        "\n",
        "class FlattenAndCast(object):\n",
        "  def __call__(self, pic):\n",
        "    return np.ravel(np.array(pic, dtype=jnp.float32))"
      ],
      "metadata": {
        "id": "OgjfkTrZzURp"
      },
      "execution_count": 2,
      "outputs": []
    },
    {
      "cell_type": "code",
      "source": [
        "# Define our dataset, using torch datasets\n",
        "mnist_dataset = MNIST('/tmp/mnist/', download=True, transform=FlattenAndCast())\n",
        "\n",
        "batch_size = 128\n",
        "training_generator = NumpyLoader(mnist_dataset, batch_size=batch_size, num_workers=0)"
      ],
      "metadata": {
        "colab": {
          "base_uri": "https://localhost:8080/"
        },
        "id": "0VXN-pqFzWY5",
        "outputId": "a32ea564-f0ff-488d-a407-176be683756d"
      },
      "execution_count": 3,
      "outputs": [
        {
          "output_type": "stream",
          "name": "stdout",
          "text": [
            "Downloading http://yann.lecun.com/exdb/mnist/train-images-idx3-ubyte.gz\n",
            "Failed to download (trying next):\n",
            "HTTP Error 403: Forbidden\n",
            "\n",
            "Downloading https://ossci-datasets.s3.amazonaws.com/mnist/train-images-idx3-ubyte.gz\n",
            "Downloading https://ossci-datasets.s3.amazonaws.com/mnist/train-images-idx3-ubyte.gz to /tmp/mnist/MNIST/raw/train-images-idx3-ubyte.gz\n"
          ]
        },
        {
          "output_type": "stream",
          "name": "stderr",
          "text": [
            "100%|██████████| 9.91M/9.91M [00:00<00:00, 16.3MB/s]\n"
          ]
        },
        {
          "output_type": "stream",
          "name": "stdout",
          "text": [
            "Extracting /tmp/mnist/MNIST/raw/train-images-idx3-ubyte.gz to /tmp/mnist/MNIST/raw\n",
            "\n",
            "Downloading http://yann.lecun.com/exdb/mnist/train-labels-idx1-ubyte.gz\n",
            "Failed to download (trying next):\n",
            "HTTP Error 403: Forbidden\n",
            "\n",
            "Downloading https://ossci-datasets.s3.amazonaws.com/mnist/train-labels-idx1-ubyte.gz\n",
            "Downloading https://ossci-datasets.s3.amazonaws.com/mnist/train-labels-idx1-ubyte.gz to /tmp/mnist/MNIST/raw/train-labels-idx1-ubyte.gz\n"
          ]
        },
        {
          "output_type": "stream",
          "name": "stderr",
          "text": [
            "100%|██████████| 28.9k/28.9k [00:00<00:00, 499kB/s]\n"
          ]
        },
        {
          "output_type": "stream",
          "name": "stdout",
          "text": [
            "Extracting /tmp/mnist/MNIST/raw/train-labels-idx1-ubyte.gz to /tmp/mnist/MNIST/raw\n",
            "\n",
            "Downloading http://yann.lecun.com/exdb/mnist/t10k-images-idx3-ubyte.gz\n",
            "Failed to download (trying next):\n",
            "HTTP Error 403: Forbidden\n",
            "\n",
            "Downloading https://ossci-datasets.s3.amazonaws.com/mnist/t10k-images-idx3-ubyte.gz\n",
            "Downloading https://ossci-datasets.s3.amazonaws.com/mnist/t10k-images-idx3-ubyte.gz to /tmp/mnist/MNIST/raw/t10k-images-idx3-ubyte.gz\n"
          ]
        },
        {
          "output_type": "stream",
          "name": "stderr",
          "text": [
            "100%|██████████| 1.65M/1.65M [00:00<00:00, 4.50MB/s]\n"
          ]
        },
        {
          "output_type": "stream",
          "name": "stdout",
          "text": [
            "Extracting /tmp/mnist/MNIST/raw/t10k-images-idx3-ubyte.gz to /tmp/mnist/MNIST/raw\n",
            "\n",
            "Downloading http://yann.lecun.com/exdb/mnist/t10k-labels-idx1-ubyte.gz\n",
            "Failed to download (trying next):\n",
            "HTTP Error 403: Forbidden\n",
            "\n",
            "Downloading https://ossci-datasets.s3.amazonaws.com/mnist/t10k-labels-idx1-ubyte.gz\n",
            "Downloading https://ossci-datasets.s3.amazonaws.com/mnist/t10k-labels-idx1-ubyte.gz to /tmp/mnist/MNIST/raw/t10k-labels-idx1-ubyte.gz\n"
          ]
        },
        {
          "output_type": "stream",
          "name": "stderr",
          "text": [
            "100%|██████████| 4.54k/4.54k [00:00<00:00, 4.26MB/s]"
          ]
        },
        {
          "output_type": "stream",
          "name": "stdout",
          "text": [
            "Extracting /tmp/mnist/MNIST/raw/t10k-labels-idx1-ubyte.gz to /tmp/mnist/MNIST/raw\n",
            "\n"
          ]
        },
        {
          "output_type": "stream",
          "name": "stderr",
          "text": [
            "\n"
          ]
        }
      ]
    },
    {
      "cell_type": "markdown",
      "source": [
        "## Train and test sets"
      ],
      "metadata": {
        "id": "ssHE6FWD0S_6"
      }
    },
    {
      "cell_type": "code",
      "source": [
        "# Get the full train dataset (for checking accuracy while training)\n",
        "train_images = np.array(mnist_dataset.train_data).reshape(len(mnist_dataset.train_data), -1)\n",
        "train_labels = np.array(mnist_dataset.train_labels)\n",
        "\n",
        "N_train = 10000\n",
        "train_images = train_images[0:N_train,:] #get a subset of the data\n",
        "train_labels = train_labels[0:N_train]\n",
        "\n",
        "\n",
        "# Get full test dataset\n",
        "mnist_dataset_test = MNIST('/tmp/mnist/', download=True, train=False)\n",
        "test_images = jnp.array(mnist_dataset_test.test_data.numpy().reshape(len(mnist_dataset_test.test_data), -1), dtype=jnp.float32)\n",
        "test_labels = np.array(mnist_dataset_test.test_labels)\n",
        "\n",
        "\n",
        "N_test = 10000\n",
        "test_images = test_images[0:N_test,:] #get a subset of the data\n",
        "test_labels = test_labels[0:N_test]"
      ],
      "metadata": {
        "colab": {
          "base_uri": "https://localhost:8080/"
        },
        "id": "gOzp3sSG0SLC",
        "outputId": "39f63d42-4f04-449a-af60-e4898563d9c7"
      },
      "execution_count": 4,
      "outputs": [
        {
          "output_type": "stream",
          "name": "stderr",
          "text": [
            "/usr/local/lib/python3.10/dist-packages/torchvision/datasets/mnist.py:76: UserWarning: train_data has been renamed data\n",
            "  warnings.warn(\"train_data has been renamed data\")\n",
            "/usr/local/lib/python3.10/dist-packages/torchvision/datasets/mnist.py:66: UserWarning: train_labels has been renamed targets\n",
            "  warnings.warn(\"train_labels has been renamed targets\")\n",
            "/usr/local/lib/python3.10/dist-packages/torchvision/datasets/mnist.py:81: UserWarning: test_data has been renamed data\n",
            "  warnings.warn(\"test_data has been renamed data\")\n",
            "/usr/local/lib/python3.10/dist-packages/torchvision/datasets/mnist.py:71: UserWarning: test_labels has been renamed targets\n",
            "  warnings.warn(\"test_labels has been renamed targets\")\n"
          ]
        }
      ]
    },
    {
      "cell_type": "markdown",
      "source": [
        "## Plotting examples of MNIST dataset"
      ],
      "metadata": {
        "id": "XMDSWF3Vz7KU"
      }
    },
    {
      "cell_type": "code",
      "source": [
        "import matplotlib.pyplot as plt\n",
        "\n",
        "def plot_MNIST_train_examples(my_labels,n_grid = 2):\n",
        "  figure = plt.figure(figsize=(12, 10))\n",
        "\n",
        "  #plotting images from the training set\n",
        "  for i in range(1, n_grid**2 + 1):\n",
        "    plt.subplot(n_grid, n_grid, i)\n",
        "    plt.subplots_adjust(hspace =.5, wspace=.5)\n",
        "    plt.title(f\"Label: {my_labels[i]}\")\n",
        "\n",
        "    img = train_images[i].reshape((28,28))\n",
        "    plt.imshow(img, cmap='gray')\n",
        "\n",
        "plot_MNIST_train_examples(train_labels)"
      ],
      "metadata": {
        "colab": {
          "base_uri": "https://localhost:8080/",
          "height": 853
        },
        "id": "UI4qtFEy0Cwe",
        "outputId": "eba34fb7-9b92-4e31-bd8d-9dbb1a719a56"
      },
      "execution_count": 5,
      "outputs": [
        {
          "output_type": "display_data",
          "data": {
            "text/plain": [
              "<Figure size 1200x1000 with 4 Axes>"
            ],
            "image/png": "[encoded data removed]"
          },
          "metadata": {}
        }
      ]
    },
    {
      "cell_type": "markdown",
      "source": [
        "# Linear Regression (LinR)"
      ],
      "metadata": {
        "id": "2-BF50plCN22"
      }
    },
    {
      "cell_type": "markdown",
      "source": [
        "We think of linear regression as a [784 by 1] graph."
      ],
      "metadata": {
        "id": "F2nadKleQ_Iq"
      }
    },
    {
      "cell_type": "markdown",
      "source": [
        "## Generate random starting paramaters"
      ],
      "metadata": {
        "id": "66l6vdsxChhc"
      }
    },
    {
      "cell_type": "code",
      "source": [
        "# A helper function to randomly initialize weights and biases\n",
        "# for a dense neural network layer\n",
        "def random_layer_params(m, n, key, scale):\n",
        "  w_key, b_key = jax.random.split(key)\n",
        "  return scale * jax.random.normal(w_key, (n, m)), scale * jax.random.normal(b_key, (n,))\n",
        "\n",
        "# Initialize all layers for a fully-connected neural network with sizes \"sizes\"\n",
        "def init_network_params(sizes, key, scale=1e-2):\n",
        "  keys = jax.random.split(key, len(sizes))\n",
        "  return [random_layer_params(m, n, k, scale) for m, n, k in zip(sizes[:-1], sizes[1:], keys)]\n",
        "\n",
        "key = jax.random.PRNGKey(int(time.time()))"
      ],
      "metadata": {
        "id": "00FQd9PfCUFV"
      },
      "execution_count": 6,
      "outputs": []
    },
    {
      "cell_type": "code",
      "source": [
        "layer_sizes = [784, 1]\n",
        "params = init_network_params(layer_sizes, key)"
      ],
      "metadata": {
        "id": "IToNl2D1J0TY"
      },
      "execution_count": 7,
      "outputs": []
    },
    {
      "cell_type": "markdown",
      "source": [
        "## Create our function and our loss function"
      ],
      "metadata": {
        "id": "ixcFfsRLCloQ"
      }
    },
    {
      "cell_type": "code",
      "source": [
        "layer_sizes = [784, 1]\n",
        "params = init_network_params(layer_sizes, key)\n",
        "\n",
        "def LinR(params, image):\n",
        "  x = image\n",
        "  # first layer is feedforward\n",
        "  w, b = params[0]\n",
        "\n",
        "  ##### FILL IN THE OUTPUT #####\n",
        "  LinR_Output = (jnp.dot(w, x) + b)[0]\n",
        "  ##############################\n",
        "  return LinR_Output\n",
        "\n",
        "print(\"Lin Reg on 1st training example:\")\n",
        "print(LinR(params,train_images[0]))"
      ],
      "metadata": {
        "colab": {
          "base_uri": "https://localhost:8080/"
        },
        "id": "yC9jfSr3-zl4",
        "outputId": "f4043e2c-34de-486a-ba01-8f7f7998a386"
      },
      "execution_count": 8,
      "outputs": [
        {
          "output_type": "stream",
          "name": "stdout",
          "text": [
            "Lin Reg on 1st training example:\n",
            "16.245684\n"
          ]
        }
      ]
    },
    {
      "cell_type": "code",
      "source": [],
      "metadata": {
        "id": "O_WN-ZRPPL4v"
      },
      "execution_count": null,
      "outputs": []
    },
    {
      "cell_type": "code",
      "source": [
        "\n",
        "#### FILL IN#####\n",
        "#### Make a version of LinR that runs on multple inputs at once ###\n",
        "#### Hint: Use the magic of JAX!\n",
        "batched_LinR = jax.vmap(LinR, in_axes = (None, 0)) ###???\n",
        "################\n",
        "\n",
        "print(\"Lin Reg on all training example:\")\n",
        "print(batched_LinR(params,train_images))"
      ],
      "metadata": {
        "colab": {
          "base_uri": "https://localhost:8080/"
        },
        "id": "opcwn7xMR6zu",
        "outputId": "f65b8efd-b6d7-4829-a991-4f85ff287db7"
      },
      "execution_count": 9,
      "outputs": [
        {
          "output_type": "stream",
          "name": "stdout",
          "text": [
            "Lin Reg on all training example:\n",
            "[ 16.245684  -4.779806  29.907522 ...  15.021154 -19.486032   7.671015]\n"
          ]
        }
      ]
    },
    {
      "cell_type": "code",
      "source": [
        "def MSE_loss_for_LinR(params,images,target):\n",
        "  preds = batched_LinR(params, images)\n",
        "\n",
        "  ### FILL IN THE FORMULA FOR THE MSE\n",
        "  MSE = jnp.mean((preds - target) ** 2) ###\n",
        "\n",
        "  return MSE\n",
        "\n",
        "print(\"MSE loss of LinR on training set:\")\n",
        "print(MSE_loss_for_LinR(params,train_images,train_labels))\n",
        "print(jnp.sqrt(MSE_loss_for_LinR(params,train_images,train_labels)))"
      ],
      "metadata": {
        "colab": {
          "base_uri": "https://localhost:8080/"
        },
        "id": "i_N_v1QVR9v2",
        "outputId": "3650a6fd-d7be-43f7-98db-da665c1c9438"
      },
      "execution_count": 11,
      "outputs": [
        {
          "output_type": "stream",
          "name": "stdout",
          "text": [
            "MSE loss of LinR on training set:\n",
            "292.66498\n",
            "17.107454\n"
          ]
        }
      ]
    },
    {
      "cell_type": "markdown",
      "source": [
        "# Training loop using gradient descent"
      ],
      "metadata": {
        "id": "Jk7mrlrbEXbh"
      }
    },
    {
      "cell_type": "markdown",
      "source": [
        "Here we will repeatedely update the \"params\" by using gradient descent"
      ],
      "metadata": {
        "id": "ni2dyKDMGFEW"
      }
    },
    {
      "cell_type": "code",
      "source": [
        "import time\n",
        "\n",
        "def training_loop(loss_func, acc_func=None, num_epochs = 2, step_size = 0.01):\n",
        "  global params\n",
        "  saved_results = []\n",
        "  for epoch in range(1,num_epochs+1):\n",
        "\n",
        "      print(f\"---Epoch #{epoch}---\")\n",
        "      #Update the weights by gradient descent!\n",
        "      start_time = time.time()\n",
        "      for x, y in tqdm(training_generator):\n",
        "          # This loop will create mini-batches of (x,y) paris to train on\n",
        "          # The batch size is set as part of the training generator\n",
        "          # Running through all the examples is called an ''epoch''\n",
        "\n",
        "          ### FILL IN THE FORMULA FOR THE GRADIENT\n",
        "          ### Hint: Use JAX magic!!\n",
        "          grads = jax.grad(loss_func)(params,  x, y) ###\n",
        "\n",
        "          #FILL IN THE FORMULA FOR THE W and B UPDATES IN TERMS OF THE PARAMS\n",
        "          params = [( w - step_size * dw , b - step_size * db)\n",
        "                    for (w, b), (dw, db) in zip(params, grads)]\n",
        "\n",
        "      #### A bunch of bookeeping here to print and record the infrmation ####\n",
        "      #Print and record stats of this epoch\n",
        "      if acc_func != None:\n",
        "        train_acc = acc_func(params, train_images, train_labels)\n",
        "        test_acc = acc_func(params, test_images, test_labels)\n",
        "\n",
        "      train_CE_loss = loss_func(params, train_images, train_labels)\n",
        "      test_CE_loss = loss_func(params, test_images, test_labels)\n",
        "\n",
        "      results_dict = {'epoch': epoch,\n",
        "              'train_loss': np.copy(train_CE_loss).item(),\n",
        "              'test_loss': np.copy(test_CE_loss).item(),\n",
        "              }\n",
        "\n",
        "      if acc_func != None:\n",
        "        results_dict['train_acc'] = np.copy(train_acc).item()\n",
        "        results_dict['test_acc'] = np.copy(test_acc).item()\n",
        "\n",
        "      saved_results += [results_dict]\n",
        "\n",
        "      epoch_time = time.time() - start_time\n",
        "      print(f\"---Time: {epoch_time:0.2f} sec---\")\n",
        "      if acc_func != None:\n",
        "        print(f\"  Train  acc: {train_acc:0.4f}\")\n",
        "        print(f\"  Test   acc: {test_acc:0.4f}\")\n",
        "      print(f\"  Train loss: {train_CE_loss:0.4f}\")\n",
        "      print(f\"  Test  loss: {test_CE_loss:0.4f}\")\n",
        "\n",
        "\n",
        "  return saved_results"
      ],
      "metadata": {
        "id": "3W91M7zQ3Mm1"
      },
      "execution_count": 14,
      "outputs": []
    },
    {
      "cell_type": "code",
      "source": [
        "#Train the network!\n",
        "layer_sizes = [784, 1]\n",
        "params = init_network_params(layer_sizes, key)\n",
        "training_loop(MSE_loss_for_LinR,num_epochs=2,step_size = 0.00000001)"
      ],
      "metadata": {
        "colab": {
          "base_uri": "https://localhost:8080/"
        },
        "id": "HPEM-3UrEZ3t",
        "outputId": "41cf4622-04c2-4dee-b274-e2914c8227aa"
      },
      "execution_count": 16,
      "outputs": [
        {
          "output_type": "stream",
          "name": "stdout",
          "text": [
            "---Epoch #1---\n"
          ]
        },
        {
          "output_type": "stream",
          "name": "stderr",
          "text": [
            "100%|██████████| 469/469 [00:08<00:00, 53.74it/s]\n"
          ]
        },
        {
          "output_type": "stream",
          "name": "stdout",
          "text": [
            "---Time: 8.75 sec---\n",
            "  Train loss: 129.2191\n",
            "  Test  loss: 128.8711\n",
            "---Epoch #2---\n"
          ]
        },
        {
          "output_type": "stream",
          "name": "stderr",
          "text": [
            "100%|██████████| 469/469 [00:08<00:00, 54.51it/s]"
          ]
        },
        {
          "output_type": "stream",
          "name": "stdout",
          "text": [
            "---Time: 8.63 sec---\n",
            "  Train loss: 91.3709\n",
            "  Test  loss: 90.9220\n"
          ]
        },
        {
          "output_type": "stream",
          "name": "stderr",
          "text": [
            "\n"
          ]
        },
        {
          "output_type": "execute_result",
          "data": {
            "text/plain": [
              "[{'epoch': 1,\n",
              "  'train_loss': 129.2191162109375,\n",
              "  'test_loss': 128.87112426757812},\n",
              " {'epoch': 2, 'train_loss': 91.37085723876953, 'test_loss': 90.92195129394531}]"
            ]
          },
          "metadata": {},
          "execution_count": 16
        }
      ]
    },
    {
      "cell_type": "code",
      "source": [
        "LinR_labels = batched_LinR(params, train_images)\n",
        "plot_MNIST_train_examples(LinR_labels)"
      ],
      "metadata": {
        "colab": {
          "base_uri": "https://localhost:8080/",
          "height": 853
        },
        "id": "UU10kTlxGfAb",
        "outputId": "c070a059-e4b5-4c17-afcb-b33b40f3b545"
      },
      "execution_count": 17,
      "outputs": [
        {
          "output_type": "display_data",
          "data": {
            "text/plain": [
              "<Figure size 1200x1000 with 4 Axes>"
            ],
            "image/png": "[encoded data removed]"
          },
          "metadata": {}
        }
      ]
    },
    {
      "cell_type": "markdown",
      "source": [
        "# Non-linear but still regression (NonLinR)"
      ],
      "metadata": {
        "id": "Li9R5qoXHIy-"
      }
    },
    {
      "cell_type": "code",
      "source": [
        "layer_sizes = [784, 1]\n",
        "params = init_network_params(layer_sizes, key)\n",
        "\n",
        "def sigmoid(x):\n",
        "  #Fill in the sigmoid function to \"crunch down\" (-\\infty, \\infty) to (0,9)\n",
        "  return jnp.exp(x)/(1+jnp.exp(x))\n",
        "\n",
        "\n",
        "def NonLinR(params, image):\n",
        "  x = image\n",
        "  # first layer is feedforward\n",
        "  w, b = params[0]\n",
        "\n",
        "  #### FILL IN A VERSION\n",
        "  output_between_0_and_9 = 9 * sigmoid(jnp.dot(w, x) + b) [0]###\n",
        "  ####\n",
        "\n",
        "  return output_between_0_and_9 ###\n",
        "\n",
        "\n",
        "print(\"NonLinR on a single example:\")\n",
        "print(NonLinR(params,train_images[0]))\n",
        "\n",
        "batched_NonLinR = jax.vmap(NonLinR, in_axes=(None, 0))\n",
        "print(\"NonLinR on a all examples:\")\n",
        "print(batched_NonLinR(params,train_images))\n",
        "\n",
        "def MSE_loss_for_NonLinR(params,images,target):\n",
        "  preds = batched_NonLinR(params, images)\n",
        "  return jnp.mean( (preds - target)**2 )\n",
        "\n",
        "print(\"MSE of train set for NonLin R\")\n",
        "print(MSE_loss_for_NonLinR(params,train_images,train_labels))"
      ],
      "metadata": {
        "colab": {
          "base_uri": "https://localhost:8080/"
        },
        "id": "PJMPvRjtG4gj",
        "outputId": "db6f53be-633e-444f-890b-ab29d25f94d2"
      },
      "execution_count": 18,
      "outputs": [
        {
          "output_type": "stream",
          "name": "stdout",
          "text": [
            "NonLinR on a single example:\n",
            "8.999999\n",
            "NonLinR on a all examples:\n",
            "[8.9999990e+00 7.4949250e-02 9.0000000e+00 ... 8.9999971e+00 3.1014594e-08\n",
            " 8.9958067e+00]\n",
            "MSE of train set for NonLin R\n",
            "29.081274\n"
          ]
        }
      ]
    },
    {
      "cell_type": "code",
      "source": [
        "layer_sizes = [784, 1]\n",
        "params = init_network_params(layer_sizes, key, scale = 0.0001)\n",
        "training_loop(MSE_loss_for_NonLinR,step_size = 0.0000001)"
      ],
      "metadata": {
        "colab": {
          "base_uri": "https://localhost:8080/"
        },
        "id": "SDXrVUdNH86q",
        "outputId": "1fedea60-8958-48ce-a1ba-4bc7443963bf"
      },
      "execution_count": 26,
      "outputs": [
        {
          "output_type": "stream",
          "name": "stdout",
          "text": [
            "---Epoch #1---\n"
          ]
        },
        {
          "output_type": "stream",
          "name": "stderr",
          "text": [
            "100%|██████████| 469/469 [00:12<00:00, 38.54it/s]\n"
          ]
        },
        {
          "output_type": "stream",
          "name": "stdout",
          "text": [
            "---Time: 12.21 sec---\n",
            "  Train loss: 3.4049\n",
            "  Test  loss: 3.3885\n",
            "---Epoch #2---\n"
          ]
        },
        {
          "output_type": "stream",
          "name": "stderr",
          "text": [
            "100%|██████████| 469/469 [00:11<00:00, 41.49it/s]"
          ]
        },
        {
          "output_type": "stream",
          "name": "stdout",
          "text": [
            "---Time: 11.33 sec---\n",
            "  Train loss: 3.3026\n",
            "  Test  loss: 3.3030\n"
          ]
        },
        {
          "output_type": "stream",
          "name": "stderr",
          "text": [
            "\n"
          ]
        },
        {
          "output_type": "execute_result",
          "data": {
            "text/plain": [
              "[{'epoch': 1, 'train_loss': 3.404881238937378, 'test_loss': 3.388489007949829},\n",
              " {'epoch': 2,\n",
              "  'train_loss': 3.302598237991333,\n",
              "  'test_loss': 3.3029634952545166}]"
            ]
          },
          "metadata": {},
          "execution_count": 26
        }
      ]
    },
    {
      "cell_type": "code",
      "source": [
        "NonLinR_labels = batched_NonLinR(params, train_images)\n",
        "plot_MNIST_train_examples(NonLinR_labels)"
      ],
      "metadata": {
        "colab": {
          "base_uri": "https://localhost:8080/",
          "height": 853
        },
        "id": "y0UGjjkrJaxd",
        "outputId": "d8a682b7-696c-4363-eed6-a855bff0b024"
      },
      "execution_count": 27,
      "outputs": [
        {
          "output_type": "display_data",
          "data": {
            "text/plain": [
              "<Figure size 1200x1000 with 4 Axes>"
            ],
            "image/png": "[encoded data removed]"
          },
          "metadata": {}
        }
      ]
    },
    {
      "cell_type": "markdown",
      "source": [
        "# Logisitic Regression (LogiR)"
      ],
      "metadata": {
        "id": "-9KCJv8tG18o"
      }
    },
    {
      "cell_type": "code",
      "source": [
        "#Initialize Parameters\n",
        "\n",
        "#Fill in the SIZE of the output layer for logisitic regression\n",
        "#Hint: How does logistic regression translate between output\n",
        "# and the class probabilities when there are more than 2 classes?\n",
        "output_size = None\n",
        "layer_sizes = [784, output_size]\n",
        "params = init_network_params(layer_sizes, key)\n",
        "\n",
        "def sigmoid(x):\n",
        "  return jnp.exp(x)/(1+jnp.exp(x))\n",
        "\n",
        "def LogiR_logP(params, image):\n",
        "  x = image\n",
        "  # first layer is feedforward\n",
        "  w, b = params[0]\n",
        "\n",
        "  ##### Fill in the formula for the logits\n",
        "  logits = jnp.dot(w, x) + b\n",
        "\n",
        "  #This just makes it so that the logits are not too big\n",
        "  # (Big logits can cause numerical issues like nan to appear)\n",
        "  logits_max_zero = logits - jnp.max(logits)\n",
        "\n",
        "  #### Fill in the formula to get the log(probability) using the logits\n",
        "  probabilities = jnp.exp(logits_max_zero) / jnp.sum(jnp.exp(logits_max_zero))\n",
        "\n",
        "  log_prob = logits_max_zero - jnp.log(jnp.sum(jnp.exp(logits_max_zero))) # DIVIDE COMES AS (-1)\n",
        "  return log_prob\n",
        "\n",
        "print(\"LogiR on one example:\")\n",
        "print(LogiR_logP(params, train_images[0]))\n",
        "\n",
        "batched_LogiR_logP = jax.vmap(LogiR_logP, in_axes=(None, 0))\n",
        "\n",
        "print(\"LogiR on all examples:\")\n",
        "print(batched_LogiR_logP(params, train_images))\n",
        "\n",
        "\n",
        "\n",
        "def CE_loss_for_LogiR(params,images,target):\n",
        "  preds = batched_LogiR_logP(params, images)\n",
        "\n",
        "  #Instead of a target being from 0 to 9, we need to convert this to a vector\n",
        "  # Fill in how to do it!\n",
        "  target_as_vector = None\n",
        "\n",
        "  #FILL IN THE FORMULA FOR CROSS ENTROPY LOSS\n",
        "  CE_loss = None\n",
        "\n",
        "  return CE_loss\n",
        "\n",
        "print(\"CE loss of LogiR on all example:\")\n",
        "print(CE_loss_for_LogiR(params,train_images,train_labels))"
      ],
      "metadata": {
        "colab": {
          "base_uri": "https://localhost:8080/"
        },
        "id": "fz-ke4QuIZhF",
        "outputId": "7db02da8-1ebb-4075-a95b-1c49b8d147ad"
      },
      "execution_count": null,
      "outputs": [
        {
          "output_type": "stream",
          "name": "stdout",
          "text": [
            "LogiR on one example:\n",
            "[-24.901382 -62.914238   0.       -20.9617   -26.477444 -95.15152\n",
            " -41.246334 -48.078487 -68.92207  -65.76706 ]\n",
            "LogiR on all examples:\n",
            "[[-24.901396   -62.914253     0.         ... -48.078506   -68.92209\n",
            "  -65.76707   ]\n",
            " [-89.63713    -92.17103    -21.78653    ... -45.962914   -91.0006\n",
            "  -73.108086  ]\n",
            " [ -6.4286156   -2.2328708  -10.15359    ...  -0.11768607  -6.1431417\n",
            "  -32.07563   ]\n",
            " ...\n",
            " [ -3.3975265  -30.151514   -26.50848    ... -13.721768   -71.722115\n",
            "  -67.79132   ]\n",
            " [ -9.473701   -21.997929    -8.660935   ...  -1.1280038   -6.975233\n",
            "   -9.59648   ]\n",
            " [-54.565536   -37.89062    -46.814037   ...  -7.2396     -34.04228\n",
            "  -42.529484  ]]\n",
            "CE loss of LogiR on all example:\n",
            "3.7324789\n"
          ]
        }
      ]
    },
    {
      "cell_type": "code",
      "source": [
        "layer_sizes = [784, 10]\n",
        "params = init_network_params(layer_sizes, key)\n",
        "\n",
        "def top1_acc_LogiR(params, images, target_class):\n",
        "  #Fill in how to get the prediction from the LogiR function\n",
        "  predicted_class = None\n",
        "  return jnp.mean(predicted_class == target_class)\n",
        "\n",
        "training_loop(CE_loss_for_LogiR,top1_acc_LogiR,num_epochs=2,step_size = 0.01)"
      ],
      "metadata": {
        "colab": {
          "base_uri": "https://localhost:8080/"
        },
        "id": "ittd8bU0LRo-",
        "outputId": "d8424cf8-ce4f-4f91-fda2-91a043d70629"
      },
      "execution_count": null,
      "outputs": [
        {
          "output_type": "stream",
          "name": "stdout",
          "text": [
            "---Epoch 1 in 10.69 sec---\n",
            "  Train  acc: 0.8501\n",
            "  Test   acc: 0.8411\n",
            "  Train loss: 2.1198\n",
            "  Test  loss: 2.3387\n",
            "---Epoch 2 in 9.64 sec---\n",
            "  Train  acc: 0.8817\n",
            "  Test   acc: 0.8818\n",
            "  Train loss: 1.1986\n",
            "  Test  loss: 1.2464\n"
          ]
        },
        {
          "output_type": "execute_result",
          "data": {
            "text/plain": [
              "[{'epoch': 1,\n",
              "  'train_loss': 2.1197545528411865,\n",
              "  'test_loss': 2.3387084007263184,\n",
              "  'train_acc': 0.8500999808311462,\n",
              "  'test_acc': 0.8410999774932861},\n",
              " {'epoch': 2,\n",
              "  'train_loss': 1.1985687017440796,\n",
              "  'test_loss': 1.2463773488998413,\n",
              "  'train_acc': 0.8816999793052673,\n",
              "  'test_acc': 0.8817999958992004}]"
            ]
          },
          "metadata": {},
          "execution_count": 18
        }
      ]
    },
    {
      "cell_type": "code",
      "source": [
        "LogiR_labels = batched_LogiR_logP(params, train_images)\n",
        "plot_MNIST_train_examples(jnp.argmax(LogiR_labels,axis=1))"
      ],
      "metadata": {
        "colab": {
          "base_uri": "https://localhost:8080/",
          "height": 607
        },
        "id": "n4qPAQVGOTiY",
        "outputId": "bf21e831-b54a-431d-fae4-2355791e6e9e"
      },
      "execution_count": null,
      "outputs": [
        {
          "output_type": "display_data",
          "data": {
            "text/plain": [
              "<Figure size 864x720 with 4 Axes>"
            ],
            "image/png": "[encoded data removed]"
          },
          "metadata": {
            "needs_background": "light"
          }
        }
      ]
    },
    {
      "cell_type": "markdown",
      "source": [
        "## Multi-layer perceptron with cross entropy loss (MLP)"
      ],
      "metadata": {
        "id": "1Drx_x3x1GPE"
      }
    },
    {
      "cell_type": "code",
      "source": [
        "#Lets start by making a MLP (aka \"a fully connected nerual network\")\n",
        "# with one hidden layer\n",
        "# FILL IN what layer_sizes should be here\n",
        "layer_sizes = None\n",
        "\n",
        "\n",
        "params = init_network_params(layer_sizes, key)\n",
        "\n",
        "# rectified linear unit activation function\n",
        "def relu(x):\n",
        "  #We will use the rele non-liearity for our nerual network\n",
        "  return None #\n",
        "\n",
        "\n",
        "def MLP_logP(params, image):\n",
        "    # per-example predictions\n",
        "    # Returns the log probability of each class\n",
        "\n",
        "    x = image\n",
        "    # first layer is feedforward\n",
        "    w, b = params[0]\n",
        "\n",
        "    #Fill in the formula for the first layer\n",
        "    x = None\n",
        "    x_transformed = None #Apply a non-linear transformation to x\n",
        "\n",
        "    for w, b in params[1:-1]: #This loops through all the hidden layers\n",
        "        # Fill in the formula to be applied at all the hidden layers\n",
        "        x = None\n",
        "        x_transformed = None\n",
        "\n",
        "    final_w, final_b = params[-1]  #This is the last layer\n",
        "    #Fill in the formula for the logits\n",
        "    logits = None\n",
        "    logits_max_zero = logits - jnp.max(logits)\n",
        "\n",
        "    #Fill in the formula for the log(prob) using the logits\n",
        "    logP = None\n",
        "\n",
        "    return logP\n",
        "\n",
        "print(\"MLP logP on a single examples\")\n",
        "print(MLP_logP(params, train_images[0]))"
      ],
      "metadata": {
        "colab": {
          "base_uri": "https://localhost:8080/"
        },
        "id": "PsjwYhFT1OGJ",
        "outputId": "0dc07d07-5dc1-4f4a-a3b7-363f89053824"
      },
      "execution_count": null,
      "outputs": [
        {
          "output_type": "stream",
          "name": "stdout",
          "text": [
            "MLP logP on a single examples\n",
            "[-14.982776   -0.3782405 -15.621546  -13.7279215  -4.9733896 -13.424351\n",
            " -20.063177   -2.2887373  -1.5889996  -5.9964747]\n"
          ]
        }
      ]
    },
    {
      "cell_type": "code",
      "source": [
        "# Let's upgrade it to handle batches using `vmap`\n",
        "\n",
        "# Make a batched version of the `predict` function\n",
        "batched_MLP_logP = jax.vmap(MLP_logP, in_axes=(None, 0))\n",
        "\n",
        "# `batched_predict` has the same call signature as `predict`\n",
        "print(\"MLP logP on all examples\")\n",
        "batched_preds = batched_MLP_logP(params, train_images)\n",
        "print(batched_preds)"
      ],
      "metadata": {
        "colab": {
          "base_uri": "https://localhost:8080/"
        },
        "id": "6kyzCmn02Uc9",
        "outputId": "09cbbdda-2ff9-4d35-cd1e-472a34c63d60"
      },
      "execution_count": null,
      "outputs": [
        {
          "output_type": "stream",
          "name": "stdout",
          "text": [
            "MLP logP on all examples\n",
            "[[-1.49827719e+01 -3.78241450e-01 -1.56215448e+01 ... -2.28873634e+00\n",
            "  -1.58899677e+00 -5.99647713e+00]\n",
            " [-2.22175350e+01 -5.48569489e+00 -1.45736256e+01 ... -7.94642512e-03\n",
            "  -9.85297394e+00 -5.59515381e+00]\n",
            " [-4.07513952e+00 -4.65694427e+00 -1.55901327e+01 ... -9.54575920e+00\n",
            "  -3.59039158e-02 -8.66181278e+00]\n",
            " ...\n",
            " [-2.40175557e+00 -6.19331181e-01 -1.66161785e+01 ... -7.82844400e+00\n",
            "  -1.40210748e+00 -3.89843607e+00]\n",
            " [-1.23611546e+00 -7.32741785e+00 -1.40732861e+01 ... -1.43470745e+01\n",
            "  -1.06515627e+01 -4.08330154e+00]\n",
            " [-6.15037870e+00 -8.16275406e+00 -1.72831287e+01 ... -5.54770380e-02\n",
            "  -9.91180038e+00 -3.29676580e+00]]\n"
          ]
        }
      ]
    },
    {
      "cell_type": "markdown",
      "source": [
        "# Loss function"
      ],
      "metadata": {
        "id": "retfqCeV2j_j"
      }
    },
    {
      "cell_type": "code",
      "source": [
        "def CE_loss_for_MLP(params, images, target):\n",
        "  #This is exactly the same as for Logistic Regression!\n",
        "  preds = batched_MLP_logP(params, images)\n",
        "  target_one_hot = jax.nn.one_hot(target, 10)\n",
        "  return -jnp.mean(preds * target_one_hot)\n",
        "\n",
        "print(\"CE loss for the the MLP\")\n",
        "print(CE_loss_for_MLP(params, train_images, train_labels))\n"
      ],
      "metadata": {
        "colab": {
          "base_uri": "https://localhost:8080/"
        },
        "id": "WUyZ4zba2mJL",
        "outputId": "d2174a8a-b08d-4a32-c345-748a069ad1d6"
      },
      "execution_count": null,
      "outputs": [
        {
          "output_type": "stream",
          "name": "stdout",
          "text": [
            "CE loss for the the MLP\n",
            "1.03355\n"
          ]
        }
      ]
    },
    {
      "cell_type": "code",
      "source": [
        "layer_sizes = [784, 784, 10]\n",
        "params = init_network_params(layer_sizes, key)\n",
        "\n",
        "\n",
        "def top1_acc_MLP(params, images, target_class):\n",
        "  predicted_class = jnp.argmax(batched_MLP_logP(params, images), axis=1)\n",
        "  return jnp.mean(predicted_class == target_class)\n",
        "\n",
        "training_loop(CE_loss_for_MLP, top1_acc_MLP)"
      ],
      "metadata": {
        "colab": {
          "base_uri": "https://localhost:8080/"
        },
        "id": "BOSw5PabPMm1",
        "outputId": "42c2ea60-2643-4491-99b9-fec541997b2f"
      },
      "execution_count": null,
      "outputs": [
        {
          "output_type": "stream",
          "name": "stdout",
          "text": [
            "---Epoch 1 in 32.74 sec---\n",
            "  Train  acc: 0.9270\n",
            "  Test   acc: 0.9288\n",
            "  Train loss: 0.0246\n",
            "  Test  loss: 0.0240\n",
            "---Epoch 2 in 27.26 sec---\n",
            "  Train  acc: 0.9456\n",
            "  Test   acc: 0.9448\n",
            "  Train loss: 0.0183\n",
            "  Test  loss: 0.0185\n"
          ]
        },
        {
          "output_type": "execute_result",
          "data": {
            "text/plain": [
              "[{'epoch': 1,\n",
              "  'train_loss': 0.024588339030742645,\n",
              "  'test_loss': 0.023965951055288315,\n",
              "  'train_acc': 0.9269999861717224,\n",
              "  'test_acc': 0.9287999868392944},\n",
              " {'epoch': 2,\n",
              "  'train_loss': 0.018313348293304443,\n",
              "  'test_loss': 0.01852300763130188,\n",
              "  'train_acc': 0.9455999732017517,\n",
              "  'test_acc': 0.9447999596595764}]"
            ]
          },
          "metadata": {},
          "execution_count": 23
        }
      ]
    },
    {
      "cell_type": "code",
      "source": [
        "MLP_preds = batched_MLP_logP(params, train_images)\n",
        "MLP_labels = jnp.argmax(MLP_preds,axis=1)\n",
        "plot_MNIST_train_examples( MLP_labels)"
      ],
      "metadata": {
        "colab": {
          "base_uri": "https://localhost:8080/",
          "height": 607
        },
        "id": "-EWdPqNeQE2X",
        "outputId": "d5c0cf34-bd23-43c2-d359-5eefaf68852f"
      },
      "execution_count": null,
      "outputs": [
        {
          "output_type": "display_data",
          "data": {
            "text/plain": [
              "<Figure size 864x720 with 4 Axes>"
            ],
            "image/png": "[encoded data removed]"
          },
          "metadata": {
            "needs_background": "light"
          }
        }
      ]
    },
    {
      "cell_type": "code",
      "source": [
        "def plot_incorrect_MNIST_train_examples(my_labels,n_grid = 2):\n",
        "  figure = plt.figure(figsize=(12, 12))\n",
        "\n",
        "  #plotting images from the training set\n",
        "  image_ix = 0\n",
        "  for i in range(1, n_grid**2 + 1):\n",
        "    image_ix += 1\n",
        "    plt.subplot(n_grid, n_grid, i)\n",
        "    plt.subplots_adjust(hspace =.5, wspace=.5)\n",
        "    while train_labels[image_ix] == my_labels[image_ix]: #loop through to find incorrectly labeled examples\n",
        "      image_ix += 1\n",
        "    plt.title(f\"My Label: {my_labels[image_ix]}, Actual: {train_labels[image_ix]}\")\n",
        "    img = train_images[image_ix].reshape((28,28))\n",
        "    plt.imshow(img, cmap='gray')"
      ],
      "metadata": {
        "id": "--VdVzSY0qju"
      },
      "execution_count": null,
      "outputs": []
    },
    {
      "cell_type": "code",
      "source": [
        "MLP_preds = batched_MLP_logP(params, train_images)\n",
        "MLP_labels = jnp.argmax(MLP_preds,axis=1)\n",
        "plot_incorrect_MNIST_train_examples( MLP_labels,n_grid = 3)"
      ],
      "metadata": {
        "id": "fHHXMzgU0qow"
      },
      "execution_count": null,
      "outputs": []
    }
  ]
}