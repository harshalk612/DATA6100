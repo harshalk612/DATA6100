{
  "nbformat": 4,
  "nbformat_minor": 0,
  "metadata": {
    "colab": {
      "provenance": [],
      "include_colab_link": true
    },
    "kernelspec": {
      "name": "python3",
      "display_name": "Python 3"
    },
    "language_info": {
      "name": "python"
    }
  },
  "cells": [
    {
      "cell_type": "markdown",
      "metadata": {
        "id": "view-in-github",
        "colab_type": "text"
      },
      "source": [
        "<a href=\"https://colab.research.google.com/github/harshalk612/DATA6100/blob/main/NeuralNetworks/MNIST_example_with_second_half_blank.ipynb\" target=\"_parent\"><img src=\"https://colab.research.google.com/assets/colab-badge.svg\" alt=\"Open In Colab\"/></a>"
      ]
    },
    {
      "cell_type": "code",
      "execution_count": 4,
      "metadata": {
        "id": "LNfZROG9zPm7"
      },
      "outputs": [],
      "source": [
        "import jax.numpy as jnp\n",
        "import jax\n",
        "import time\n",
        "from tqdm import tqdm"
      ]
    },
    {
      "cell_type": "markdown",
      "source": [
        "# What is this?\n",
        "\n",
        "This notebook is based on the JAX training for MNIST and builds up a simple fully connected neural network (aka Multi-Layer-Perceptron MLP) starting from ordinary linear regression, and then logistic regression to build up the intuition for how it works."
      ],
      "metadata": {
        "id": "nsxY_7yJJcMr"
      }
    },
    {
      "cell_type": "markdown",
      "source": [
        "#Load MNIST Dataset"
      ],
      "metadata": {
        "id": "oHR-WD5EzTPr"
      }
    },
    {
      "cell_type": "code",
      "source": [
        "import numpy as np\n",
        "from torch.utils import data\n",
        "from torchvision.datasets import MNIST\n",
        "\n",
        "def numpy_collate(batch):\n",
        "  if isinstance(batch[0], np.ndarray):\n",
        "    return np.stack(batch)\n",
        "  elif isinstance(batch[0], (tuple,list)):\n",
        "    transposed = zip(*batch)\n",
        "    return [numpy_collate(samples) for samples in transposed]\n",
        "  else:\n",
        "    return np.array(batch)\n",
        "\n",
        "class NumpyLoader(data.DataLoader):\n",
        "  def __init__(self, dataset, batch_size=1,\n",
        "                shuffle=False, sampler=None,\n",
        "                batch_sampler=None, num_workers=0,\n",
        "                pin_memory=False, drop_last=False,\n",
        "                timeout=0, worker_init_fn=None):\n",
        "    super(self.__class__, self).__init__(dataset,\n",
        "        batch_size=batch_size,\n",
        "        shuffle=shuffle,\n",
        "        sampler=sampler,\n",
        "        batch_sampler=batch_sampler,\n",
        "        num_workers=num_workers,\n",
        "        collate_fn=numpy_collate,\n",
        "        pin_memory=pin_memory,\n",
        "        drop_last=drop_last,\n",
        "        timeout=timeout,\n",
        "        worker_init_fn=worker_init_fn)\n",
        "\n",
        "class FlattenAndCast(object):\n",
        "  def __call__(self, pic):\n",
        "    return np.ravel(np.array(pic, dtype=jnp.float32))"
      ],
      "metadata": {
        "id": "OgjfkTrZzURp"
      },
      "execution_count": 5,
      "outputs": []
    },
    {
      "cell_type": "code",
      "source": [
        "# Define our dataset, using torch datasets\n",
        "mnist_dataset = MNIST('/tmp/mnist/', download=True, transform=FlattenAndCast())\n",
        "\n",
        "batch_size = 128\n",
        "training_generator = NumpyLoader(mnist_dataset, batch_size=batch_size, num_workers=0)"
      ],
      "metadata": {
        "id": "0VXN-pqFzWY5",
        "outputId": "ca2b04a8-1867-436d-dabe-0f24d8c53456",
        "colab": {
          "base_uri": "https://localhost:8080/"
        }
      },
      "execution_count": 6,
      "outputs": [
        {
          "output_type": "stream",
          "name": "stdout",
          "text": [
            "Downloading http://yann.lecun.com/exdb/mnist/train-images-idx3-ubyte.gz\n",
            "Failed to download (trying next):\n",
            "HTTP Error 403: Forbidden\n",
            "\n",
            "Downloading https://ossci-datasets.s3.amazonaws.com/mnist/train-images-idx3-ubyte.gz\n",
            "Downloading https://ossci-datasets.s3.amazonaws.com/mnist/train-images-idx3-ubyte.gz to /tmp/mnist/MNIST/raw/train-images-idx3-ubyte.gz\n"
          ]
        },
        {
          "output_type": "stream",
          "name": "stderr",
          "text": [
            "100%|██████████| 9.91M/9.91M [00:00<00:00, 33.1MB/s]\n"
          ]
        },
        {
          "output_type": "stream",
          "name": "stdout",
          "text": [
            "Extracting /tmp/mnist/MNIST/raw/train-images-idx3-ubyte.gz to /tmp/mnist/MNIST/raw\n",
            "\n",
            "Downloading http://yann.lecun.com/exdb/mnist/train-labels-idx1-ubyte.gz\n",
            "Failed to download (trying next):\n",
            "HTTP Error 403: Forbidden\n",
            "\n",
            "Downloading https://ossci-datasets.s3.amazonaws.com/mnist/train-labels-idx1-ubyte.gz\n",
            "Downloading https://ossci-datasets.s3.amazonaws.com/mnist/train-labels-idx1-ubyte.gz to /tmp/mnist/MNIST/raw/train-labels-idx1-ubyte.gz\n"
          ]
        },
        {
          "output_type": "stream",
          "name": "stderr",
          "text": [
            "100%|██████████| 28.9k/28.9k [00:00<00:00, 1.30MB/s]\n"
          ]
        },
        {
          "output_type": "stream",
          "name": "stdout",
          "text": [
            "Extracting /tmp/mnist/MNIST/raw/train-labels-idx1-ubyte.gz to /tmp/mnist/MNIST/raw\n",
            "\n",
            "Downloading http://yann.lecun.com/exdb/mnist/t10k-images-idx3-ubyte.gz\n",
            "Failed to download (trying next):\n",
            "HTTP Error 403: Forbidden\n",
            "\n",
            "Downloading https://ossci-datasets.s3.amazonaws.com/mnist/t10k-images-idx3-ubyte.gz\n",
            "Downloading https://ossci-datasets.s3.amazonaws.com/mnist/t10k-images-idx3-ubyte.gz to /tmp/mnist/MNIST/raw/t10k-images-idx3-ubyte.gz\n"
          ]
        },
        {
          "output_type": "stream",
          "name": "stderr",
          "text": [
            "100%|██████████| 1.65M/1.65M [00:00<00:00, 7.92MB/s]\n"
          ]
        },
        {
          "output_type": "stream",
          "name": "stdout",
          "text": [
            "Extracting /tmp/mnist/MNIST/raw/t10k-images-idx3-ubyte.gz to /tmp/mnist/MNIST/raw\n",
            "\n",
            "Downloading http://yann.lecun.com/exdb/mnist/t10k-labels-idx1-ubyte.gz\n",
            "Failed to download (trying next):\n",
            "HTTP Error 403: Forbidden\n",
            "\n",
            "Downloading https://ossci-datasets.s3.amazonaws.com/mnist/t10k-labels-idx1-ubyte.gz\n",
            "Downloading https://ossci-datasets.s3.amazonaws.com/mnist/t10k-labels-idx1-ubyte.gz to /tmp/mnist/MNIST/raw/t10k-labels-idx1-ubyte.gz\n"
          ]
        },
        {
          "output_type": "stream",
          "name": "stderr",
          "text": [
            "100%|██████████| 4.54k/4.54k [00:00<00:00, 3.83MB/s]\n"
          ]
        },
        {
          "output_type": "stream",
          "name": "stdout",
          "text": [
            "Extracting /tmp/mnist/MNIST/raw/t10k-labels-idx1-ubyte.gz to /tmp/mnist/MNIST/raw\n",
            "\n"
          ]
        }
      ]
    },
    {
      "cell_type": "markdown",
      "source": [
        "## Train and test sets"
      ],
      "metadata": {
        "id": "ssHE6FWD0S_6"
      }
    },
    {
      "cell_type": "code",
      "source": [
        "# Get the full train dataset (for checking accuracy while training)\n",
        "train_images = np.array(mnist_dataset.train_data).reshape(len(mnist_dataset.train_data), -1)\n",
        "train_labels = np.array(mnist_dataset.train_labels)\n",
        "\n",
        "N_train = 10000\n",
        "train_images = train_images[0:N_train,:] #get a subset of the data\n",
        "train_labels = train_labels[0:N_train]\n",
        "\n",
        "\n",
        "# Get full test dataset\n",
        "mnist_dataset_test = MNIST('/tmp/mnist/', download=True, train=False)\n",
        "test_images = jnp.array(mnist_dataset_test.test_data.numpy().reshape(len(mnist_dataset_test.test_data), -1), dtype=jnp.float32)\n",
        "test_labels = np.array(mnist_dataset_test.test_labels)\n",
        "\n",
        "\n",
        "N_test = 10000\n",
        "test_images = test_images[0:N_test,:] #get a subset of the data\n",
        "test_labels = test_labels[0:N_test]"
      ],
      "metadata": {
        "colab": {
          "base_uri": "https://localhost:8080/"
        },
        "id": "gOzp3sSG0SLC",
        "outputId": "a841b2da-1882-4150-850b-24fb85ad0e0a"
      },
      "execution_count": 7,
      "outputs": [
        {
          "output_type": "stream",
          "name": "stderr",
          "text": [
            "/usr/local/lib/python3.10/dist-packages/torchvision/datasets/mnist.py:76: UserWarning: train_data has been renamed data\n",
            "  warnings.warn(\"train_data has been renamed data\")\n",
            "/usr/local/lib/python3.10/dist-packages/torchvision/datasets/mnist.py:66: UserWarning: train_labels has been renamed targets\n",
            "  warnings.warn(\"train_labels has been renamed targets\")\n",
            "/usr/local/lib/python3.10/dist-packages/torchvision/datasets/mnist.py:81: UserWarning: test_data has been renamed data\n",
            "  warnings.warn(\"test_data has been renamed data\")\n",
            "/usr/local/lib/python3.10/dist-packages/torchvision/datasets/mnist.py:71: UserWarning: test_labels has been renamed targets\n",
            "  warnings.warn(\"test_labels has been renamed targets\")\n"
          ]
        }
      ]
    },
    {
      "cell_type": "markdown",
      "source": [
        "## Plotting examples of MNIST dataset"
      ],
      "metadata": {
        "id": "XMDSWF3Vz7KU"
      }
    },
    {
      "cell_type": "code",
      "source": [
        "import matplotlib.pyplot as plt\n",
        "\n",
        "def plot_MNIST_train_examples(my_labels,n_grid = 2):\n",
        "  figure = plt.figure(figsize=(12, 10))\n",
        "\n",
        "  #plotting images from the training set\n",
        "  for i in range(1, n_grid**2 + 1):\n",
        "    plt.subplot(n_grid, n_grid, i)\n",
        "    plt.subplots_adjust(hspace =.5, wspace=.5)\n",
        "    plt.title(f\"Label: {my_labels[i]}\")\n",
        "\n",
        "    img = train_images[i].reshape((28,28))\n",
        "    plt.imshow(img, cmap='gray')\n",
        "\n",
        "plot_MNIST_train_examples(train_labels)"
      ],
      "metadata": {
        "colab": {
          "base_uri": "https://localhost:8080/",
          "height": 853
        },
        "id": "UI4qtFEy0Cwe",
        "outputId": "c41665e9-2f92-4387-c14d-b051d38c524c"
      },
      "execution_count": 8,
      "outputs": [
        {
          "output_type": "display_data",
          "data": {
            "text/plain": [
              "<Figure size 1200x1000 with 4 Axes>"
            ],
            "image/png": "[encoded data removed]"
          },
          "metadata": {}
        }
      ]
    },
    {
      "cell_type": "markdown",
      "source": [
        "# Linear Regression (LinR)"
      ],
      "metadata": {
        "id": "2-BF50plCN22"
      }
    },
    {
      "cell_type": "markdown",
      "source": [
        "We think of linear regression as a [784 by 1] graph."
      ],
      "metadata": {
        "id": "F2nadKleQ_Iq"
      }
    },
    {
      "cell_type": "markdown",
      "source": [
        "## Generate random starting paramaters"
      ],
      "metadata": {
        "id": "66l6vdsxChhc"
      }
    },
    {
      "cell_type": "code",
      "source": [
        "# A helper function to randomly initialize weights and biases\n",
        "# for a dense neural network layer\n",
        "def random_layer_params(m, n, key, scale):\n",
        "  w_key, b_key = jax.random.split(key)\n",
        "  return scale * jax.random.normal(w_key, (n, m)), scale * jax.random.normal(b_key, (n,))\n",
        "\n",
        "# Initialize all layers for a fully-connected neural network with sizes \"sizes\"\n",
        "def init_network_params(sizes, key, scale=1e-2):\n",
        "  keys = jax.random.split(key, len(sizes))\n",
        "  return [random_layer_params(m, n, k, scale) for m, n, k in zip(sizes[:-1], sizes[1:], keys)]\n",
        "\n",
        "key = jax.random.PRNGKey(int(time.time()))"
      ],
      "metadata": {
        "id": "00FQd9PfCUFV"
      },
      "execution_count": 10,
      "outputs": []
    },
    {
      "cell_type": "code",
      "source": [
        "layer_sizes = [784, 1]\n",
        "params = init_network_params(layer_sizes, key)"
      ],
      "metadata": {
        "id": "IToNl2D1J0TY"
      },
      "execution_count": 11,
      "outputs": []
    },
    {
      "cell_type": "markdown",
      "source": [
        "## Create our function and our loss function"
      ],
      "metadata": {
        "id": "ixcFfsRLCloQ"
      }
    },
    {
      "cell_type": "code",
      "source": [
        "layer_sizes = [784, 1]\n",
        "params = init_network_params(layer_sizes, key)\n",
        "\n",
        "def LinR(params, image):\n",
        "  x = image\n",
        "  # first layer is feedforward\n",
        "  w, b = params[0]\n",
        "\n",
        "  ##### FILL IN THE OUTPUT #####\n",
        "  LinR_Output = (jnp.dot(w, x) + b)[0]\n",
        "  ##############################\n",
        "  return LinR_Output\n",
        "\n",
        "print(\"Lin Reg on 1st training example:\")\n",
        "print(LinR(params,train_images[0]))"
      ],
      "metadata": {
        "colab": {
          "base_uri": "https://localhost:8080/"
        },
        "id": "yC9jfSr3-zl4",
        "outputId": "d259ae94-07a7-4c12-bb0b-ff52062147e3"
      },
      "execution_count": 12,
      "outputs": [
        {
          "output_type": "stream",
          "name": "stdout",
          "text": [
            "Lin Reg on 1st training example:\n",
            "12.859804\n"
          ]
        }
      ]
    },
    {
      "cell_type": "code",
      "source": [
        "\n",
        "#### FILL IN#####\n",
        "#### Make a version of LinR that runs on multple inputs at once ###\n",
        "#### Hint: Use the magic of JAX!\n",
        "batched_LinR = jax.vmap(LinR, in_axes=(None, 0)) ###???\n",
        "################\n",
        "\n",
        "print(\"Lin Reg on all training example:\")\n",
        "print(batched_LinR(params,train_images))"
      ],
      "metadata": {
        "colab": {
          "base_uri": "https://localhost:8080/"
        },
        "id": "opcwn7xMR6zu",
        "outputId": "66e44079-1877-406f-838e-76fa82a36f99"
      },
      "execution_count": 13,
      "outputs": [
        {
          "output_type": "stream",
          "name": "stdout",
          "text": [
            "Lin Reg on all training example:\n",
            "[ 12.859804   25.353462  -45.25519   ...  17.748802   -1.8008494\n",
            "   2.9942842]\n"
          ]
        }
      ]
    },
    {
      "cell_type": "code",
      "source": [
        "def MSE_loss_for_LinR(params,images,target):\n",
        "  preds = batched_LinR(params, images)\n",
        "\n",
        "  ### FILL IN THE FORMULA FOR THE MSE\n",
        "  MSE = jnp.mean( (preds - target)**2 ) ###\n",
        "\n",
        "  return MSE\n",
        "\n",
        "print(\"MSE loss of LinR on training set:\")\n",
        "print(MSE_loss_for_LinR(params,train_images,train_labels))"
      ],
      "metadata": {
        "colab": {
          "base_uri": "https://localhost:8080/"
        },
        "id": "i_N_v1QVR9v2",
        "outputId": "5fff540a-d489-4552-a6ed-6fef8ad766d4"
      },
      "execution_count": 14,
      "outputs": [
        {
          "output_type": "stream",
          "name": "stdout",
          "text": [
            "MSE loss of LinR on training set:\n",
            "401.44843\n"
          ]
        }
      ]
    },
    {
      "cell_type": "markdown",
      "source": [
        "# Training loop using gradient descent"
      ],
      "metadata": {
        "id": "Jk7mrlrbEXbh"
      }
    },
    {
      "cell_type": "markdown",
      "source": [
        "Here we will repeatedely update the \"params\" by using gradient descent"
      ],
      "metadata": {
        "id": "ni2dyKDMGFEW"
      }
    },
    {
      "cell_type": "code",
      "source": [
        "import time\n",
        "\n",
        "from functools import partial\n",
        "\n",
        "@partial(jax.jit, static_argnames=['loss_func','step_size'])\n",
        "def update_params(params, x, y, loss_func, step_size):\n",
        "  grads = jax.grad(loss_func)(params, x, y)\n",
        "  return [(w - step_size * dw, b - step_size * db)\n",
        "          for (w, b), (dw, db) in zip(params, grads)]\n",
        "\n",
        "def training_loop(loss_func, acc_func=None, num_epochs = 2, step_size = 0.01):\n",
        "  global params\n",
        "  saved_results = []\n",
        "  for epoch in range(1,num_epochs+1):\n",
        "\n",
        "      print(f\"---Epoch #{epoch}---\")\n",
        "      #Update the weights by gradient descent!\n",
        "      start_time = time.time()\n",
        "      for x, y in tqdm(training_generator):\n",
        "          # This loop will create mini-batches of (x,y) paris to train on\n",
        "          # The batch size is set as part of the training generator\n",
        "          # Running through all the examples is called an ''epoch''\n",
        "\n",
        "          ### FILL IN THE FORMULA FOR THE GRADIENT\n",
        "          ### Hint: Use JAX magic!!\n",
        "          #turn the labels into one hot vectors\n",
        "          grads = jax.grad(loss_func)(params, x, y)\n",
        "\n",
        "          params = update_params(params, x, y, loss_func, step_size)\n",
        "\n",
        "\n",
        "          #FILL IN THE FORMULA FOR THE W and B UPDATES IN TERMS OF THE PARAMS\n",
        "          #params = [(w - step_size * dw, b - step_size * db)\n",
        "          #          for (w, b), (dw, db) in zip(params, grads)]\n",
        "\n",
        "\n",
        "      #### A bunch of bookeeping here to print and record the infrmation ####\n",
        "      #Print and record stats of this epoch\n",
        "      if acc_func != None:\n",
        "        train_acc = acc_func(params, train_images, train_labels)\n",
        "        test_acc = acc_func(params, test_images, test_labels)\n",
        "\n",
        "      train_CE_loss = loss_func(params, train_images, train_labels)\n",
        "      test_CE_loss = loss_func(params, test_images, test_labels)\n",
        "\n",
        "      results_dict = {'epoch': epoch,\n",
        "              'train_loss': np.copy(train_CE_loss).item(),\n",
        "              'test_loss': np.copy(test_CE_loss).item(),\n",
        "              }\n",
        "\n",
        "      if acc_func != None:\n",
        "        results_dict['train_acc'] = np.copy(train_acc).item()\n",
        "        results_dict['test_acc'] = np.copy(test_acc).item()\n",
        "\n",
        "      saved_results += [results_dict]\n",
        "\n",
        "      epoch_time = time.time() - start_time\n",
        "      print(f\"---Time: {epoch_time:0.2f} sec---\")\n",
        "      if acc_func != None:\n",
        "        print(f\"  Train  acc: {train_acc:0.4f}\")\n",
        "        print(f\"  Test   acc: {test_acc:0.4f}\")\n",
        "      print(f\"  Train loss: {train_CE_loss:0.4f}\")\n",
        "      print(f\"  Test  loss: {test_CE_loss:0.4f}\")\n",
        "\n",
        "\n",
        "  return saved_results"
      ],
      "metadata": {
        "id": "3W91M7zQ3Mm1"
      },
      "execution_count": 15,
      "outputs": []
    },
    {
      "cell_type": "code",
      "source": [
        "#Train the network!\n",
        "layer_sizes = [784, 1]\n",
        "params = init_network_params(layer_sizes, key)\n",
        "training_loop(MSE_loss_for_LinR,num_epochs=2,step_size = 0.00000001)"
      ],
      "metadata": {
        "colab": {
          "base_uri": "https://localhost:8080/"
        },
        "id": "HPEM-3UrEZ3t",
        "outputId": "9e6d327d-afef-4db7-ac17-ccc14b05ae2c"
      },
      "execution_count": 17,
      "outputs": [
        {
          "output_type": "stream",
          "name": "stdout",
          "text": [
            "---Epoch #1---\n"
          ]
        },
        {
          "output_type": "stream",
          "name": "stderr",
          "text": [
            "100%|██████████| 469/469 [00:10<00:00, 45.29it/s]\n"
          ]
        },
        {
          "output_type": "stream",
          "name": "stdout",
          "text": [
            "---Time: 10.40 sec---\n",
            "  Train loss: 121.8811\n",
            "  Test  loss: 117.9377\n",
            "---Epoch #2---\n"
          ]
        },
        {
          "output_type": "stream",
          "name": "stderr",
          "text": [
            "100%|██████████| 469/469 [00:09<00:00, 47.81it/s]\n"
          ]
        },
        {
          "output_type": "stream",
          "name": "stdout",
          "text": [
            "---Time: 9.84 sec---\n",
            "  Train loss: 83.3363\n",
            "  Test  loss: 80.9586\n"
          ]
        },
        {
          "output_type": "execute_result",
          "data": {
            "text/plain": [
              "[{'epoch': 1, 'train_loss': 121.88107299804688, 'test_loss': 117.937744140625},\n",
              " {'epoch': 2, 'train_loss': 83.3363265991211, 'test_loss': 80.95858764648438}]"
            ]
          },
          "metadata": {},
          "execution_count": 17
        }
      ]
    },
    {
      "cell_type": "code",
      "source": [
        "LinR_labels = batched_LinR(params, train_images)\n",
        "plot_MNIST_train_examples(LinR_labels)"
      ],
      "metadata": {
        "colab": {
          "base_uri": "https://localhost:8080/",
          "height": 853
        },
        "id": "UU10kTlxGfAb",
        "outputId": "924781c4-f36e-4886-d08d-8f48d4ad8c17"
      },
      "execution_count": 16,
      "outputs": [
        {
          "output_type": "display_data",
          "data": {
            "text/plain": [
              "<Figure size 1200x1000 with 4 Axes>"
            ],
            "image/png": "[encoded data removed]"
          },
          "metadata": {}
        }
      ]
    },
    {
      "cell_type": "markdown",
      "source": [
        "# Non-linear but still regression (NonLinR)"
      ],
      "metadata": {
        "id": "Li9R5qoXHIy-"
      }
    },
    {
      "cell_type": "code",
      "source": [
        "layer_sizes = [784, 1]\n",
        "\n",
        "def sigmoid(x):\n",
        "  #Fill in the sigmoid function to \"crunch down\" (-\\infty, \\infty) to (0,9)\n",
        "  return jnp.exp(x)/(1+jnp.exp(x))\n",
        "\n",
        "\n",
        "def NonLinR(params, image):\n",
        "  x = image\n",
        "  # first layer is feedforward\n",
        "  w, b = params[0]\n",
        "\n",
        "  #### FILL IN A VERSION\n",
        "  output_between_0_and_9 = 9*sigmoid( (jnp.dot(w, x) + b) )[0]\n",
        "  ####\n",
        "\n",
        "  return output_between_0_and_9 ###\n",
        "\n",
        "\n",
        "print(\"NonLinR on a single example:\")\n",
        "print(NonLinR(params,train_images[0]))\n",
        "\n",
        "batched_NonLinR = jax.vmap(NonLinR, in_axes=(None, 0))\n",
        "print(\"NonLinR on a all examples:\")\n",
        "print(batched_NonLinR(params,train_images))\n",
        "\n",
        "def MSE_loss_for_NonLinR(params,images,target):\n",
        "  preds = batched_NonLinR(params, images)\n",
        "  return jnp.mean( (preds - target)**2 )\n",
        "\n",
        "\n",
        "\n",
        "params = init_network_params(layer_sizes, key, scale = 0.000001)\n",
        "print(\"MSE of train set for NonLin R\")\n",
        "print(MSE_loss_for_NonLinR(params,train_images,train_labels))"
      ],
      "metadata": {
        "colab": {
          "base_uri": "https://localhost:8080/"
        },
        "id": "PJMPvRjtG4gj",
        "outputId": "2950ae01-f636-46ac-e9f5-ed386337779f"
      },
      "execution_count": 18,
      "outputs": [
        {
          "output_type": "stream",
          "name": "stdout",
          "text": [
            "NonLinR on a single example:\n",
            "8.287113\n",
            "NonLinR on a all examples:\n",
            "[8.2871132e+00 3.5966149e-01 5.3091533e-08 ... 3.2134563e-01 3.1512456e+00\n",
            " 1.3727202e+00]\n",
            "MSE of train set for NonLin R\n",
            "8.346878\n"
          ]
        }
      ]
    },
    {
      "cell_type": "code",
      "source": [
        "layer_sizes = [784, 1]\n",
        "params = init_network_params(layer_sizes, key, scale = 0.00001)\n",
        "training_loop(MSE_loss_for_NonLinR,num_epochs=4,step_size = 0.0000001)"
      ],
      "metadata": {
        "colab": {
          "base_uri": "https://localhost:8080/"
        },
        "id": "SDXrVUdNH86q",
        "outputId": "dfabb9be-6649-402e-e15e-4dd5213a6f30"
      },
      "execution_count": 19,
      "outputs": [
        {
          "output_type": "stream",
          "name": "stdout",
          "text": [
            "---Epoch #1---\n"
          ]
        },
        {
          "output_type": "stream",
          "name": "stderr",
          "text": [
            "100%|██████████| 469/469 [00:12<00:00, 36.95it/s]\n"
          ]
        },
        {
          "output_type": "stream",
          "name": "stdout",
          "text": [
            "---Time: 12.72 sec---\n",
            "  Train loss: 3.4100\n",
            "  Test  loss: 3.3944\n",
            "---Epoch #2---\n"
          ]
        },
        {
          "output_type": "stream",
          "name": "stderr",
          "text": [
            "100%|██████████| 469/469 [00:11<00:00, 39.45it/s]\n"
          ]
        },
        {
          "output_type": "stream",
          "name": "stdout",
          "text": [
            "---Time: 11.91 sec---\n",
            "  Train loss: 3.3051\n",
            "  Test  loss: 3.3071\n",
            "---Epoch #3---\n"
          ]
        },
        {
          "output_type": "stream",
          "name": "stderr",
          "text": [
            "100%|██████████| 469/469 [00:11<00:00, 39.28it/s]\n"
          ]
        },
        {
          "output_type": "stream",
          "name": "stdout",
          "text": [
            "---Time: 11.97 sec---\n",
            "  Train loss: 3.2555\n",
            "  Test  loss: 3.2667\n",
            "---Epoch #4---\n"
          ]
        },
        {
          "output_type": "stream",
          "name": "stderr",
          "text": [
            "100%|██████████| 469/469 [00:13<00:00, 35.99it/s]"
          ]
        },
        {
          "output_type": "stream",
          "name": "stdout",
          "text": [
            "---Time: 13.06 sec---\n",
            "  Train loss: 3.2261\n",
            "  Test  loss: 3.2433\n"
          ]
        },
        {
          "output_type": "stream",
          "name": "stderr",
          "text": [
            "\n"
          ]
        },
        {
          "output_type": "execute_result",
          "data": {
            "text/plain": [
              "[{'epoch': 1,\n",
              "  'train_loss': 3.4099998474121094,\n",
              "  'test_loss': 3.394380807876587},\n",
              " {'epoch': 2,\n",
              "  'train_loss': 3.3050546646118164,\n",
              "  'test_loss': 3.307081460952759},\n",
              " {'epoch': 3, 'train_loss': 3.255493640899658, 'test_loss': 3.266719341278076},\n",
              " {'epoch': 4,\n",
              "  'train_loss': 3.226147174835205,\n",
              "  'test_loss': 3.2432522773742676}]"
            ]
          },
          "metadata": {},
          "execution_count": 19
        }
      ]
    },
    {
      "cell_type": "code",
      "source": [
        "NonLinR_labels = batched_NonLinR(params, train_images)\n",
        "plot_MNIST_train_examples(NonLinR_labels)"
      ],
      "metadata": {
        "colab": {
          "base_uri": "https://localhost:8080/",
          "height": 853
        },
        "id": "y0UGjjkrJaxd",
        "outputId": "4a52bd3f-8a03-48f2-f798-f126782d6447"
      },
      "execution_count": 20,
      "outputs": [
        {
          "output_type": "display_data",
          "data": {
            "text/plain": [
              "<Figure size 1200x1000 with 4 Axes>"
            ],
            "image/png": "[encoded data removed]"
          },
          "metadata": {}
        }
      ]
    },
    {
      "cell_type": "markdown",
      "source": [
        "# Logisitic Regression (LogiR)"
      ],
      "metadata": {
        "id": "-9KCJv8tG18o"
      }
    },
    {
      "cell_type": "code",
      "source": [
        "#Initialize Parameters\n",
        "\n",
        "#Fill in the SIZE of the output layer for logisitic regression\n",
        "#Hint: How does logistic regression translate between output\n",
        "# and the class probabilities when there are more than 2 classes?\n",
        "output_size = 10\n",
        "layer_sizes = [784, output_size]\n",
        "params = init_network_params(layer_sizes, key)\n",
        "\n",
        "def sigmoid(x):\n",
        "  return jnp.exp(x)/(1+jnp.exp(x))\n",
        "\n",
        "def LogiR_logP(params, image):\n",
        "  x = image\n",
        "  # first layer is feedforward\n",
        "  w, b = params[0]\n",
        "\n",
        "  ##### Fill in the formula for the logits\n",
        "  logits = jnp.dot(w,x)+b\n",
        "\n",
        "  #This just makes it so that the logits are not too big\n",
        "  # (Big logits can cause numerical issues like nan to appear)\n",
        "  logits_max_zero = logits - jnp.max(logits)\n",
        "\n",
        "  #### Fill in the formula to get the log(probability) using the logits\n",
        "  logP = logits_max_zero - jnp.log(jnp.sum(jnp.exp(logits_max_zero)))\n",
        "\n",
        "  return logP\n",
        "\n",
        "print(\"LogiR on one example:\")\n",
        "print(LogiR_logP(params, train_images[0]))\n",
        "\n",
        "batched_LogiR_logP = jax.vmap(LogiR_logP, in_axes=(None, 0))\n",
        "\n",
        "print(\"LogiR on all examples:\")\n",
        "print(batched_LogiR_logP(params, train_images))\n",
        "\n",
        "\n",
        "def CE_loss_for_LogiR(params,images,target):\n",
        "  preds = batched_LogiR_logP(params, images)\n",
        "\n",
        "  #Instead of a target being from 0 to 9, we need to convert this to a vector\n",
        "  # Fill in how to do it!\n",
        "  target_as_vector = jax.nn.one_hot(target, 10)\n",
        "\n",
        "  #FILL IN THE FORMULA FOR CROSS ENTROPY LOSS\n",
        "  CE_loss = - jnp.mean(preds * target_as_vector)\n",
        "\n",
        "  return CE_loss\n",
        "\n",
        "print(\"CE loss of LogiR on all example:\")\n",
        "print(CE_loss_for_LogiR(params,train_images,train_labels))"
      ],
      "metadata": {
        "colab": {
          "base_uri": "https://localhost:8080/"
        },
        "id": "fz-ke4QuIZhF",
        "outputId": "763c11cc-8948-4a32-b167-bb36ab7420fa"
      },
      "execution_count": 25,
      "outputs": [
        {
          "output_type": "stream",
          "name": "stdout",
          "text": [
            "LogiR on one example:\n",
            "[-32.23405    -14.644852   -40.756893   -11.731419    -1.7203101\n",
            "  -2.3108196  -21.577072    -0.32600582 -34.764748   -24.192358  ]\n",
            "LogiR on all examples:\n",
            "[[-3.2234055e+01 -1.4644845e+01 -4.0756897e+01 ... -3.2600477e-01\n",
            "  -3.4764751e+01 -2.4192358e+01]\n",
            " [-5.8179707e+01 -1.0498903e+01 -5.3031670e+01 ... -3.0865669e-03\n",
            "  -1.2820950e+01 -5.7239197e+01]\n",
            " [-1.9454231e+01 -3.7663960e+01 -1.4345931e+01 ... -2.6900379e+01\n",
            "  -3.6047157e+01 -1.9825144e+00]\n",
            " ...\n",
            " [-6.4226212e+01 -6.3971989e+01 -9.8594879e+01 ... -3.7111916e+01\n",
            "  -5.1223362e+01 -8.5640228e+01]\n",
            " [-2.5033919e-06 -4.6978439e+01 -7.7941071e+01 ... -1.3675063e+01\n",
            "  -4.9045689e+01 -2.0279242e+01]\n",
            " [-3.1811317e+01 -1.3816819e+01 -5.5391079e+01 ... -3.3441460e+01\n",
            "  -9.4913614e-01 -2.8461828e+01]]\n",
            "CE loss of LogiR on all example:\n",
            "4.332709\n"
          ]
        }
      ]
    },
    {
      "cell_type": "code",
      "source": [
        "# layer_sizes = [784, 10]\n",
        "# params = init_network_params(layer_sizes, key)\n",
        "\n",
        "def top1_acc_LogiR(params, images, target_class):\n",
        "  #Fill in how to get the prediction from the LogiR function\n",
        "  predicted_class = jnp.argmax(batched_LogiR_logP(params, images), axis=1)\n",
        "  return jnp.mean(predicted_class == target_class)\n",
        "\n",
        "training_loop(CE_loss_for_LogiR,top1_acc_LogiR,num_epochs=2,step_size = 0.01)"
      ],
      "metadata": {
        "colab": {
          "base_uri": "https://localhost:8080/"
        },
        "id": "ittd8bU0LRo-",
        "outputId": "215421af-c2b9-4f0b-b938-cb9cd4b56025"
      },
      "execution_count": 27,
      "outputs": [
        {
          "output_type": "stream",
          "name": "stdout",
          "text": [
            "---Epoch #1---\n"
          ]
        },
        {
          "output_type": "stream",
          "name": "stderr",
          "text": [
            "100%|██████████| 469/469 [00:12<00:00, 39.07it/s]\n"
          ]
        },
        {
          "output_type": "stream",
          "name": "stdout",
          "text": [
            "---Time: 12.13 sec---\n",
            "  Train  acc: 0.8635\n",
            "  Test   acc: 0.8536\n",
            "  Train loss: 1.5961\n",
            "  Test  loss: 1.8056\n",
            "---Epoch #2---\n"
          ]
        },
        {
          "output_type": "stream",
          "name": "stderr",
          "text": [
            "100%|██████████| 469/469 [00:12<00:00, 38.98it/s]"
          ]
        },
        {
          "output_type": "stream",
          "name": "stdout",
          "text": [
            "---Time: 12.17 sec---\n",
            "  Train  acc: 0.8663\n",
            "  Test   acc: 0.8536\n",
            "  Train loss: 1.7028\n",
            "  Test  loss: 1.9779\n"
          ]
        },
        {
          "output_type": "stream",
          "name": "stderr",
          "text": [
            "\n"
          ]
        },
        {
          "output_type": "execute_result",
          "data": {
            "text/plain": [
              "[{'epoch': 1,\n",
              "  'train_loss': 1.5961456298828125,\n",
              "  'test_loss': 1.8055574893951416,\n",
              "  'train_acc': 0.8634999990463257,\n",
              "  'test_acc': 0.8535999655723572},\n",
              " {'epoch': 2,\n",
              "  'train_loss': 1.7028288841247559,\n",
              "  'test_loss': 1.9778661727905273,\n",
              "  'train_acc': 0.8662999868392944,\n",
              "  'test_acc': 0.8535999655723572}]"
            ]
          },
          "metadata": {},
          "execution_count": 27
        }
      ]
    },
    {
      "cell_type": "code",
      "source": [
        "LogiR_labels = batched_LogiR_logP(params, train_images)\n",
        "plot_MNIST_train_examples(jnp.argmax(LogiR_labels,axis=1))"
      ],
      "metadata": {
        "colab": {
          "base_uri": "https://localhost:8080/",
          "height": 853
        },
        "id": "n4qPAQVGOTiY",
        "outputId": "7aa869d6-0651-4cea-e354-5f6c55ac45b0"
      },
      "execution_count": 28,
      "outputs": [
        {
          "output_type": "display_data",
          "data": {
            "text/plain": [
              "<Figure size 1200x1000 with 4 Axes>"
            ],
            "image/png": "[encoded data removed]"
          },
          "metadata": {}
        }
      ]
    },
    {
      "cell_type": "markdown",
      "source": [
        "## Multi-layer perceptron with cross entropy loss (MLP)"
      ],
      "metadata": {
        "id": "1Drx_x3x1GPE"
      }
    },
    {
      "cell_type": "code",
      "source": [
        "#Lets start by making a MLP (aka \"a fully connected nerual network\")\n",
        "# with one hidden layer\n",
        "# FILL IN what layer_sizes should be here\n",
        "h1 = 500\n",
        "h2 = 200\n",
        "layer_sizes = [784, h1, h2, 10]\n",
        "\n",
        "\n",
        "params = init_network_params(layer_sizes, key)\n",
        "\n",
        "# rectified linear unit activation function\n",
        "def relu(x):\n",
        "  #We will use the rele non-liearity for our nerual network\n",
        "  return jnp.maximum(x, 0) #\n",
        "\n",
        "\n",
        "def MLP_logP(params, image):\n",
        "    # per-example predictions\n",
        "    # Returns the log probability of each class\n",
        "\n",
        "    x = image\n",
        "    # first layer is feedforward\n",
        "    w, b = params[0]\n",
        "\n",
        "    #Fill in the formula for the first layer\n",
        "    x = jnp.dot(w,x)+b\n",
        "    x_transformed = relu(x) #Apply a non-linear transformation to x\n",
        "\n",
        "    for w, b in params[1:-1]: #This loops through all the hidden layers\n",
        "        # Fill in the formula to be applied at all the hidden layers\n",
        "        x = jnp.dot(w,x) + b\n",
        "        x_transformed = relu(x)\n",
        "\n",
        "    final_w, final_b = params[-1]  #This is the last layer\n",
        "    #Fill in the formula for the logits\n",
        "    logits = jnp.dot(final_w, x) + final_b\n",
        "    logits_max_zero = logits - jnp.max(logits)\n",
        "\n",
        "    #Fill in the formula for the log(prob) using the logits\n",
        "    logP = logits_max_zero - jnp.log(jnp.sum(jnp.exp(logits_max_zero)))\n",
        "\n",
        "    return logP\n",
        "\n",
        "print(\"MLP logP on a single examples\")\n",
        "print(MLP_logP(params, train_images[0]))"
      ],
      "metadata": {
        "colab": {
          "base_uri": "https://localhost:8080/"
        },
        "id": "PsjwYhFT1OGJ",
        "outputId": "32ed0ea9-f7a5-4c0b-9a7b-bf12768df1ee"
      },
      "execution_count": 40,
      "outputs": [
        {
          "output_type": "stream",
          "name": "stdout",
          "text": [
            "MLP logP on a single examples\n",
            "[-1.7098026 -2.840459  -2.6106193 -1.7577918 -1.6649449 -2.7008553\n",
            " -2.9380264 -2.4206767 -3.678172  -2.393215 ]\n"
          ]
        }
      ]
    },
    {
      "cell_type": "code",
      "source": [
        "# Let's upgrade it to handle batches using `vmap`\n",
        "\n",
        "# Make a batched version of the `predict` function\n",
        "batched_MLP_logP = jax.vmap(MLP_logP, in_axes=(None, 0))\n",
        "\n",
        "# `batched_predict` has the same call signature as `predict`\n",
        "print(\"MLP logP on all examples\")\n",
        "batched_preds = batched_MLP_logP(params, train_images)\n",
        "print(batched_preds)"
      ],
      "metadata": {
        "colab": {
          "base_uri": "https://localhost:8080/"
        },
        "id": "6kyzCmn02Uc9",
        "outputId": "e8743528-9240-4efc-8eb8-f88d2df02e04"
      },
      "execution_count": 41,
      "outputs": [
        {
          "output_type": "stream",
          "name": "stdout",
          "text": [
            "MLP logP on all examples\n",
            "[[-1.7098027 -2.8404593 -2.6106195 ... -2.4206772 -3.6781716 -2.3932152]\n",
            " [-1.752209  -3.5387316 -1.4384642 ... -3.2113986 -3.0069175 -3.8819904]\n",
            " [-1.7725439 -1.8421555 -2.3748777 ... -3.429851  -3.0594983 -2.6708155]\n",
            " ...\n",
            " [-1.4499248 -2.3455384 -2.2657273 ... -2.8194432 -2.1351361 -2.4262261]\n",
            " [-1.3396468 -3.2957962 -2.6438203 ... -3.2160454 -1.4560181 -2.2410383]\n",
            " [-1.3069404 -2.7275972 -2.3565335 ... -2.8664246 -2.5910468 -2.130055 ]]\n"
          ]
        }
      ]
    },
    {
      "cell_type": "markdown",
      "source": [
        "# Loss function"
      ],
      "metadata": {
        "id": "retfqCeV2j_j"
      }
    },
    {
      "cell_type": "code",
      "source": [
        "def CE_loss_for_MLP(params, images, target):\n",
        "  #This is exactly the same as for Logistic Regression!\n",
        "  preds = batched_MLP_logP(params, images)\n",
        "  target_one_hot = jax.nn.one_hot(target, 10)\n",
        "  return -jnp.mean(preds * target_one_hot)\n",
        "\n",
        "print(\"CE loss for the the MLP\")\n",
        "print(CE_loss_for_MLP(params, train_images, train_labels))\n"
      ],
      "metadata": {
        "colab": {
          "base_uri": "https://localhost:8080/"
        },
        "id": "WUyZ4zba2mJL",
        "outputId": "db8af267-e23e-4881-dd82-193454426603"
      },
      "execution_count": 42,
      "outputs": [
        {
          "output_type": "stream",
          "name": "stdout",
          "text": [
            "CE loss for the the MLP\n",
            "0.25368938\n"
          ]
        }
      ]
    },
    {
      "cell_type": "code",
      "source": [
        "# layer_sizes = [784, 784, 10] # One hidden layer of 784 Neurons\n",
        "# params = init_network_params(layer_sizes, key)\n",
        "\n",
        "\n",
        "def top1_acc_MLP(params, images, target_class):\n",
        "  predicted_class = jnp.argmax(batched_MLP_logP(params, images), axis=1)\n",
        "  return jnp.mean(predicted_class == target_class)\n",
        "\n",
        "training_loop(CE_loss_for_MLP, top1_acc_MLP, num_epochs = 10)"
      ],
      "metadata": {
        "colab": {
          "base_uri": "https://localhost:8080/"
        },
        "id": "BOSw5PabPMm1",
        "outputId": "13116433-5a9c-41c3-c995-c973689ec432"
      },
      "execution_count": 45,
      "outputs": [
        {
          "output_type": "stream",
          "name": "stdout",
          "text": [
            "---Epoch #1---\n"
          ]
        },
        {
          "output_type": "stream",
          "name": "stderr",
          "text": [
            "100%|██████████| 469/469 [00:21<00:00, 21.43it/s]\n"
          ]
        },
        {
          "output_type": "stream",
          "name": "stdout",
          "text": [
            "---Time: 23.41 sec---\n",
            "  Train  acc: 0.8840\n",
            "  Test   acc: 0.8798\n",
            "  Train loss: 0.0414\n",
            "  Test  loss: 0.0444\n",
            "---Epoch #2---\n"
          ]
        },
        {
          "output_type": "stream",
          "name": "stderr",
          "text": [
            "100%|██████████| 469/469 [00:21<00:00, 22.29it/s]\n"
          ]
        },
        {
          "output_type": "stream",
          "name": "stdout",
          "text": [
            "---Time: 22.52 sec---\n",
            "  Train  acc: 0.8868\n",
            "  Test   acc: 0.8825\n",
            "  Train loss: 0.0400\n",
            "  Test  loss: 0.0431\n",
            "---Epoch #3---\n"
          ]
        },
        {
          "output_type": "stream",
          "name": "stderr",
          "text": [
            "100%|██████████| 469/469 [00:19<00:00, 23.77it/s]\n"
          ]
        },
        {
          "output_type": "stream",
          "name": "stdout",
          "text": [
            "---Time: 21.18 sec---\n",
            "  Train  acc: 0.8891\n",
            "  Test   acc: 0.8840\n",
            "  Train loss: 0.0389\n",
            "  Test  loss: 0.0420\n",
            "---Epoch #4---\n"
          ]
        },
        {
          "output_type": "stream",
          "name": "stderr",
          "text": [
            "100%|██████████| 469/469 [00:21<00:00, 22.18it/s]\n"
          ]
        },
        {
          "output_type": "stream",
          "name": "stdout",
          "text": [
            "---Time: 22.67 sec---\n",
            "  Train  acc: 0.8905\n",
            "  Test   acc: 0.8867\n",
            "  Train loss: 0.0380\n",
            "  Test  loss: 0.0412\n",
            "---Epoch #5---\n"
          ]
        },
        {
          "output_type": "stream",
          "name": "stderr",
          "text": [
            "100%|██████████| 469/469 [00:20<00:00, 23.42it/s]\n"
          ]
        },
        {
          "output_type": "stream",
          "name": "stdout",
          "text": [
            "---Time: 22.12 sec---\n",
            "  Train  acc: 0.8921\n",
            "  Test   acc: 0.8886\n",
            "  Train loss: 0.0373\n",
            "  Test  loss: 0.0405\n",
            "---Epoch #6---\n"
          ]
        },
        {
          "output_type": "stream",
          "name": "stderr",
          "text": [
            "100%|██████████| 469/469 [00:20<00:00, 23.21it/s]\n"
          ]
        },
        {
          "output_type": "stream",
          "name": "stdout",
          "text": [
            "---Time: 21.75 sec---\n",
            "  Train  acc: 0.8933\n",
            "  Test   acc: 0.8919\n",
            "  Train loss: 0.0367\n",
            "  Test  loss: 0.0399\n",
            "---Epoch #7---\n"
          ]
        },
        {
          "output_type": "stream",
          "name": "stderr",
          "text": [
            "100%|██████████| 469/469 [00:21<00:00, 22.03it/s]\n"
          ]
        },
        {
          "output_type": "stream",
          "name": "stdout",
          "text": [
            "---Time: 22.86 sec---\n",
            "  Train  acc: 0.8948\n",
            "  Test   acc: 0.8924\n",
            "  Train loss: 0.0361\n",
            "  Test  loss: 0.0395\n",
            "---Epoch #8---\n"
          ]
        },
        {
          "output_type": "stream",
          "name": "stderr",
          "text": [
            "100%|██████████| 469/469 [00:19<00:00, 23.58it/s]\n"
          ]
        },
        {
          "output_type": "stream",
          "name": "stdout",
          "text": [
            "---Time: 21.40 sec---\n",
            "  Train  acc: 0.8965\n",
            "  Test   acc: 0.8940\n",
            "  Train loss: 0.0356\n",
            "  Test  loss: 0.0390\n",
            "---Epoch #9---\n"
          ]
        },
        {
          "output_type": "stream",
          "name": "stderr",
          "text": [
            "100%|██████████| 469/469 [00:21<00:00, 22.01it/s]\n"
          ]
        },
        {
          "output_type": "stream",
          "name": "stdout",
          "text": [
            "---Time: 22.89 sec---\n",
            "  Train  acc: 0.8969\n",
            "  Test   acc: 0.8949\n",
            "  Train loss: 0.0352\n",
            "  Test  loss: 0.0387\n",
            "---Epoch #10---\n"
          ]
        },
        {
          "output_type": "stream",
          "name": "stderr",
          "text": [
            "100%|██████████| 469/469 [00:21<00:00, 21.75it/s]\n"
          ]
        },
        {
          "output_type": "stream",
          "name": "stdout",
          "text": [
            "---Time: 23.20 sec---\n",
            "  Train  acc: 0.8979\n",
            "  Test   acc: 0.8960\n",
            "  Train loss: 0.0348\n",
            "  Test  loss: 0.0383\n"
          ]
        },
        {
          "output_type": "execute_result",
          "data": {
            "text/plain": [
              "[{'epoch': 1,\n",
              "  'train_loss': 0.0414392426609993,\n",
              "  'test_loss': 0.044432345777750015,\n",
              "  'train_acc': 0.8840000033378601,\n",
              "  'test_acc': 0.8797999620437622},\n",
              " {'epoch': 2,\n",
              "  'train_loss': 0.040022771805524826,\n",
              "  'test_loss': 0.0430670790374279,\n",
              "  'train_acc': 0.8867999911308289,\n",
              "  'test_acc': 0.8824999928474426},\n",
              " {'epoch': 3,\n",
              "  'train_loss': 0.038925446569919586,\n",
              "  'test_loss': 0.04202347993850708,\n",
              "  'train_acc': 0.8890999555587769,\n",
              "  'test_acc': 0.8840000033378601},\n",
              " {'epoch': 4,\n",
              "  'train_loss': 0.03803578391671181,\n",
              "  'test_loss': 0.041191257536411285,\n",
              "  'train_acc': 0.8904999494552612,\n",
              "  'test_acc': 0.8866999745368958},\n",
              " {'epoch': 5,\n",
              "  'train_loss': 0.03729213774204254,\n",
              "  'test_loss': 0.04050878807902336,\n",
              "  'train_acc': 0.8920999765396118,\n",
              "  'test_acc': 0.8885999917984009},\n",
              " {'epoch': 6,\n",
              "  'train_loss': 0.036656733602285385,\n",
              "  'test_loss': 0.039937470108270645,\n",
              "  'train_acc': 0.8932999968528748,\n",
              "  'test_acc': 0.8919000029563904},\n",
              " {'epoch': 7,\n",
              "  'train_loss': 0.036104802042245865,\n",
              "  'test_loss': 0.03945150598883629,\n",
              "  'train_acc': 0.8947999477386475,\n",
              "  'test_acc': 0.8923999667167664},\n",
              " {'epoch': 8,\n",
              "  'train_loss': 0.03561922162771225,\n",
              "  'test_loss': 0.03903281316161156,\n",
              "  'train_acc': 0.8964999914169312,\n",
              "  'test_acc': 0.8939999938011169},\n",
              " {'epoch': 9,\n",
              "  'train_loss': 0.035187605768442154,\n",
              "  'test_loss': 0.038668252527713776,\n",
              "  'train_acc': 0.8968999981880188,\n",
              "  'test_acc': 0.8948999643325806},\n",
              " {'epoch': 10,\n",
              "  'train_loss': 0.03480067849159241,\n",
              "  'test_loss': 0.038347966969013214,\n",
              "  'train_acc': 0.8978999853134155,\n",
              "  'test_acc': 0.8959999680519104}]"
            ]
          },
          "metadata": {},
          "execution_count": 45
        }
      ]
    },
    {
      "cell_type": "code",
      "source": [
        "MLP_preds = batched_MLP_logP(params, train_images)\n",
        "MLP_labels = jnp.argmax(MLP_preds,axis=1)\n",
        "plot_MNIST_train_examples( MLP_labels)"
      ],
      "metadata": {
        "colab": {
          "base_uri": "https://localhost:8080/",
          "height": 853
        },
        "id": "-EWdPqNeQE2X",
        "outputId": "c5b872cc-4d89-4b2b-e1c7-da651af5e57c"
      },
      "execution_count": 49,
      "outputs": [
        {
          "output_type": "display_data",
          "data": {
            "text/plain": [
              "<Figure size 1200x1000 with 4 Axes>"
            ],
            "image/png": "[encoded data removed]"
          },
          "metadata": {}
        }
      ]
    },
    {
      "cell_type": "code",
      "source": [
        "def plot_incorrect_MNIST_train_examples(my_labels,n_grid = 2):\n",
        "  figure = plt.figure(figsize=(12, 12))\n",
        "\n",
        "  #plotting images from the training set\n",
        "  image_ix = 0\n",
        "  for i in range(1, n_grid**2 + 1):\n",
        "    image_ix += 1\n",
        "    plt.subplot(n_grid, n_grid, i)\n",
        "    plt.subplots_adjust(hspace =.5, wspace=.5)\n",
        "    while train_labels[image_ix] == my_labels[image_ix]: #loop through to find incorrectly labeled examples\n",
        "      image_ix += 1\n",
        "    plt.title(f\"My Label: {my_labels[image_ix]}, Actual: {train_labels[image_ix]}\")\n",
        "    img = train_images[image_ix].reshape((28,28))\n",
        "    plt.imshow(img, cmap='gray')"
      ],
      "metadata": {
        "id": "--VdVzSY0qju"
      },
      "execution_count": 50,
      "outputs": []
    },
    {
      "cell_type": "code",
      "source": [
        "MLP_preds = batched_MLP_logP(params, train_images)\n",
        "MLP_labels = jnp.argmax(MLP_preds,axis=1)\n",
        "plot_incorrect_MNIST_train_examples( MLP_labels,n_grid = 3)"
      ],
      "metadata": {
        "id": "fHHXMzgU0qow",
        "outputId": "84b67f56-ccca-40a5-879a-856989d4fcad",
        "colab": {
          "base_uri": "https://localhost:8080/",
          "height": 1000
        }
      },
      "execution_count": 51,
      "outputs": [
        {
          "output_type": "display_data",
          "data": {
            "text/plain": [
              "<Figure size 1200x1200 with 9 Axes>"
            ],
            "image/png": "[encoded data removed]"
          },
          "metadata": {}
        }
      ]
    }
  ]
}